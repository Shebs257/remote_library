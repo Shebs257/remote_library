{
 "cells": [
  {
   "cell_type": "markdown",
   "metadata": {},
   "source": [
    "> # Dear Epsilon Students, \n",
    "> # The More you practice The better You'll Be."
   ]
  },
  {
   "cell_type": "markdown",
   "metadata": {},
   "source": [
    "### Instructions: \n",
    "- Make sure that you understand this topics before you start.\n",
    "- If you found something hard to do, try and try then google it and finally ask someone. \n",
    "- You can divide this work into daily tasks so that you do not feel pressure.\n",
    "- After you finish, go to model answer and rate yourself. \n",
    "- If you find something ambiguous, Try to make a hypothesis to solve a problem. "
   ]
  },
  {
   "cell_type": "markdown",
   "metadata": {},
   "source": [
    "### Question classification: \n",
    "- Green is level 1 \n",
    "- Orange is level 2 \n",
    "- Red is level 3 "
   ]
  },
  {
   "cell_type": "markdown",
   "metadata": {},
   "source": [
    "# <center> Let's start 💪 </center> "
   ]
  },
  {
   "cell_type": "markdown",
   "metadata": {},
   "source": [
    "## <p style=\"color:green;\">Q.01 Fill in the Line class methods to accept coordinates as a pair of tuples and return the slope and distance of the line.</p>\n"
   ]
  },
  {
   "cell_type": "code",
   "execution_count": 28,
   "metadata": {},
   "outputs": [
    {
     "name": "stdout",
     "output_type": "stream",
     "text": [
      "Distance: 3.1622776601683795\n",
      "Solpe: -3.0\n"
     ]
    }
   ],
   "source": [
    "# Answer here \n",
    "import math\n",
    "class Line:\n",
    "    \n",
    "    def __init__(self,coor1,coor2):\n",
    "        self.coor1 = coor1\n",
    "        self.coor2 = coor2\n",
    "        pass\n",
    "    \n",
    "    def distance(self):\n",
    "        return math.sqrt((self.coor2[0] - self.coor1[0])**2 + (self.coor2[1] - self.coor1[1])**2)\n",
    "        pass\n",
    "    \n",
    "    def slope(self):\n",
    "        return (self.coor2[1] - self.coor1[1]) / (self.coor2[0] - self.coor1[0])\n",
    "        pass#\n",
    "coor1 = (5,3)\n",
    "coor2 = (4,6)\n",
    "l1 = Line(coor1, coor2)\n",
    "print('Distance:',l1.distance())\n",
    "print('Solpe:',l1.slope())"
   ]
  },
  {
   "cell_type": "markdown",
   "metadata": {},
   "source": [
    "## <p style=\"color:green;\">Q.02 Fill in the class to get the volume and surface area of Cylinder</p>"
   ]
  },
  {
   "cell_type": "code",
   "execution_count": 17,
   "metadata": {},
   "outputs": [
    {
     "name": "stdout",
     "output_type": "stream",
     "text": [
      "Volume of cylinder is : 62.800000000000004 , Surface area is : 87.92\n"
     ]
    }
   ],
   "source": [
    "# Answer here \n",
    "class Cylinder:\n",
    "    \n",
    "    def __init__(self,height=1,radius=1):\n",
    "        self.height = height\n",
    "        self.radius = radius\n",
    "        pass\n",
    "        \n",
    "    def volume(self):\n",
    "        return 3.14 * self.radius**2 * self.height\n",
    "        pass\n",
    "    \n",
    "    def surface_area(self):\n",
    "        return 2 * (3.14 * self.radius * self.height) + 2 * (3.14 * self.radius**2)\n",
    "        pass\n",
    "c1 = Cylinder(5 , 2)\n",
    "print(f\"Volume of cylinder is : {c1.volume()} , Surface area is : {c1.surface_area()}\")"
   ]
  },
  {
   "cell_type": "markdown",
   "metadata": {},
   "source": [
    "## <p style=\"color:green;\">Q.03 Create a child class Bus that will inherit all of the variables and methods of the Vehicle class</p>\n",
    "> Given:\n"
   ]
  },
  {
   "cell_type": "code",
   "execution_count": 24,
   "metadata": {},
   "outputs": [
    {
     "name": "stdout",
     "output_type": "stream",
     "text": [
      "Name -> Mercedes : Max speed -> 160 : Mileage -> 15000 mile\n"
     ]
    }
   ],
   "source": [
    "# Answer here \n",
    "class Vehicle:\n",
    "\n",
    "    def __init__(self, name, max_speed, mileage):\n",
    "        self.name = name\n",
    "        self.max_speed = max_speed\n",
    "        self.mileage = mileage\n",
    "class Bus:\n",
    "\n",
    "    def __init__(self, name, max_speed, mileage):\n",
    "        Vehicle. __init__(self, name, max_speed, mileage)\n",
    "    \n",
    "    def display(self):\n",
    "        print(f\"Name -> {self.name} : Max speed -> {self.max_speed} : Mileage -> {self.mileage}\")\n",
    "b1 = Bus ('Mercedes', 160, '15000 mile')\n",
    "b1.display()"
   ]
  },
  {
   "cell_type": "markdown",
   "metadata": {},
   "source": [
    "# <center> Thank's for your effort ❤️ </center> "
   ]
  }
 ],
 "metadata": {
  "kernelspec": {
   "display_name": "Python 3 (ipykernel)",
   "language": "python",
   "name": "python3"
  },
  "language_info": {
   "codemirror_mode": {
    "name": "ipython",
    "version": 3
   },
   "file_extension": ".py",
   "mimetype": "text/x-python",
   "name": "python",
   "nbconvert_exporter": "python",
   "pygments_lexer": "ipython3",
   "version": "3.9.19"
  }
 },
 "nbformat": 4,
 "nbformat_minor": 4
}
